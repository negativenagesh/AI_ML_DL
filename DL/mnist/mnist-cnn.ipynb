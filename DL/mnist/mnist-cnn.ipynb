{
 "cells": [
  {
   "cell_type": "code",
   "execution_count": 3,
   "metadata": {},
   "outputs": [],
   "source": [
    "import torch\n",
    "import torch.nn as nn\n",
    "import torch.nn.functional as f\n",
    "import pandas as pd"
   ]
  },
  {
   "cell_type": "code",
   "execution_count": 8,
   "metadata": {},
   "outputs": [],
   "source": [
    "train=pd.read_csv('mnist/train.csv')\n",
    "test=pd.read_csv('mnist/test.csv')"
   ]
  },
  {
   "cell_type": "code",
   "execution_count": 5,
   "metadata": {},
   "outputs": [],
   "source": [
    "y=train['label']\n",
    "x=train.drop(columns=['label'])"
   ]
  },
  {
   "cell_type": "code",
   "execution_count": 9,
   "metadata": {},
   "outputs": [],
   "source": [
    "x_train_tensor=torch.tensor(x.values)\n",
    "y_train_tensor=torch.tensor(y.values)\n",
    "x_test_tensor=torch.tensor(test.values)\n",
    "y_test_tensor=torch.tensor(test.values)"
   ]
  },
  {
   "cell_type": "code",
   "execution_count": 10,
   "metadata": {},
   "outputs": [],
   "source": [
    "class model(nn.Module):\n",
    "    def _init_(self,features):\n",
    "        super().__init__()\n",
    "        \n",
    "        self.network=nn.Sequential(\n",
    "            nn.Linear(features,512),\n",
    "            nn.ReLU(),\n",
    "            nn.Linear(512,512),\n",
    "            nn.ReLU(),\n",
    "            nn.Linear(512,256),\n",
    "            nn.Relu(),\n",
    "            nn.Linear(256,128),\n",
    "            nn.Relu(),\n",
    "            nn.Linear(128,64),\n",
    "            nn.Relu(),\n",
    "            nn.Linear(64,10),\n",
    "            nn.softmax()\n",
    "        )\n",
    "    \n",
    "    def forward(self,x):\n",
    "        return self.network(x)\n",
    "\n",
    "model=model()"
   ]
  },
  {
   "cell_type": "code",
   "execution_count": null,
   "metadata": {},
   "outputs": [],
   "source": []
  }
 ],
 "metadata": {
  "kernelspec": {
   "display_name": "Python 3",
   "language": "python",
   "name": "python3"
  },
  "language_info": {
   "codemirror_mode": {
    "name": "ipython",
    "version": 3
   },
   "file_extension": ".py",
   "mimetype": "text/x-python",
   "name": "python",
   "nbconvert_exporter": "python",
   "pygments_lexer": "ipython3",
   "version": "3.12.0"
  }
 },
 "nbformat": 4,
 "nbformat_minor": 2
}
