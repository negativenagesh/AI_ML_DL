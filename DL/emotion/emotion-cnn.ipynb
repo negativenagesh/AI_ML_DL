{
 "cells": [
  {
   "cell_type": "code",
   "execution_count": 13,
   "metadata": {},
   "outputs": [],
   "source": [
    "import torch\n",
    "from torch.utils.data import DataLoader\n",
    "import torch.nn as nn\n",
    "import torch.nn.functional as f\n",
    "from torchvision import datasets, transforms\n",
    "import numpy as np\n",
    "import os\n",
    "from PIL import Image\n",
    "from torch.utils.data import DataLoader\n",
    "from torch.nn import Sequential as seq\n",
    "from torch.nn import BatchNorm2d as bn"
   ]
  },
  {
   "cell_type": "code",
   "execution_count": 2,
   "metadata": {},
   "outputs": [
    {
     "name": "stdout",
     "output_type": "stream",
     "text": [
      "Using device: cuda\n"
     ]
    }
   ],
   "source": [
    "device = torch.device('cuda' if torch.cuda.is_available() else 'cpu')\n",
    "print('Using device:', device)"
   ]
  },
  {
   "cell_type": "code",
   "execution_count": 3,
   "metadata": {},
   "outputs": [],
   "source": [
    "transform=transforms.Compose([\n",
    "    transforms.Grayscale(num_output_channels=1),\n",
    "    transforms.ToTensor(),\n",
    "    transforms.Normalize(( 0.5074,),(0.2121,))  \n",
    "])"
   ]
  },
  {
   "cell_type": "code",
   "execution_count": 4,
   "metadata": {},
   "outputs": [],
   "source": [
    "train=datasets.ImageFolder(\"D:/dl/emotion/train\",transform=transform)\n",
    "test=datasets.ImageFolder(\"D:/dl/emotion/test\",transform=transform)\n",
    "train_loader=DataLoader(train,batch_size=64,shuffle=True)\n",
    "test_loader=DataLoader(test,batch_size=64,shuffle=True)"
   ]
  },
  {
   "cell_type": "code",
   "execution_count": 5,
   "metadata": {},
   "outputs": [
    {
     "name": "stdout",
     "output_type": "stream",
     "text": [
      "torch.Size([1, 48, 48])\n"
     ]
    }
   ],
   "source": [
    "image, label = train[0]\n",
    "print(image.shape)"
   ]
  },
  {
   "cell_type": "code",
   "execution_count": 15,
   "metadata": {},
   "outputs": [
    {
     "name": "stdout",
     "output_type": "stream",
     "text": [
      "cnn(\n",
      "  (conv): Sequential(\n",
      "    (0): Conv2d(3, 16, kernel_size=(3, 3), stride=(2, 2), padding=(1, 1))\n",
      "    (1): BatchNorm2d(16, eps=1e-05, momentum=0.1, affine=True, track_running_stats=True)\n",
      "    (2): Dropout(p=0.15, inplace=False)\n",
      "    (3): ReLU()\n",
      "    (4): MaxPool2d(kernel_size=2, stride=1, padding=0, dilation=1, ceil_mode=False)\n",
      "    (5): Conv2d(16, 32, kernel_size=(3, 3), stride=(2, 2), padding=(1, 1))\n",
      "    (6): BatchNorm2d(32, eps=1e-05, momentum=0.1, affine=True, track_running_stats=True)\n",
      "    (7): Dropout(p=0.15, inplace=False)\n",
      "    (8): ReLU()\n",
      "    (9): MaxPool2d(kernel_size=2, stride=1, padding=0, dilation=1, ceil_mode=False)\n",
      "    (10): Conv2d(16, 32, kernel_size=(3, 3), stride=(1, 1), padding=(1, 1))\n",
      "    (11): BatchNorm2d(32, eps=1e-05, momentum=0.1, affine=True, track_running_stats=True)\n",
      "    (12): Dropout(p=0.15, inplace=False)\n",
      "    (13): ReLU()\n",
      "    (14): MaxPool2d(kernel_size=2, stride=1, padding=0, dilation=1, ceil_mode=False)\n",
      "    (15): Conv2d(32, 64, kernel_size=(3, 3), stride=(1, 1), padding=(1, 1))\n",
      "    (16): BatchNorm2d(64, eps=1e-05, momentum=0.1, affine=True, track_running_stats=True)\n",
      "    (17): Dropout(p=0.15, inplace=False)\n",
      "    (18): ReLU()\n",
      "    (19): MaxPool2d(kernel_size=2, stride=1, padding=0, dilation=1, ceil_mode=False)\n",
      "    (20): Conv2d(64, 128, kernel_size=(3, 3), stride=(1, 1), padding=(1, 1))\n",
      "    (21): BatchNorm2d(128, eps=1e-05, momentum=0.1, affine=True, track_running_stats=True)\n",
      "    (22): Dropout(p=0.15, inplace=False)\n",
      "    (23): ReLU()\n",
      "    (24): MaxPool2d(kernel_size=2, stride=1, padding=0, dilation=1, ceil_mode=False)\n",
      "    (25): Conv2d(128, 256, kernel_size=(3, 3), stride=(1, 1), padding=(1, 1))\n",
      "    (26): BatchNorm2d(256, eps=1e-05, momentum=0.1, affine=True, track_running_stats=True)\n",
      "    (27): Dropout(p=0.15, inplace=False)\n",
      "    (28): ReLU()\n",
      "    (29): MaxPool2d(kernel_size=2, stride=1, padding=0, dilation=1, ceil_mode=False)\n",
      "    (30): Conv2d(256, 512, kernel_size=(3, 3), stride=(1, 1), padding=(1, 1))\n",
      "    (31): BatchNorm2d(512, eps=1e-05, momentum=0.1, affine=True, track_running_stats=True)\n",
      "    (32): Dropout(p=0.15, inplace=False)\n",
      "    (33): ReLU()\n",
      "    (34): MaxPool2d(kernel_size=2, stride=1, padding=0, dilation=1, ceil_mode=False)\n",
      "    (35): Conv2d(512, 1024, kernel_size=(3, 3), stride=(1, 1), padding=(1, 1))\n",
      "    (36): BatchNorm2d(512, eps=1e-05, momentum=0.1, affine=True, track_running_stats=True)\n",
      "    (37): Dropout(p=0.15, inplace=False)\n",
      "    (38): ReLU()\n",
      "    (39): MaxPool2d(kernel_size=2, stride=1, padding=0, dilation=1, ceil_mode=False)\n",
      "    (40): Conv2d(1024, 2048, kernel_size=(3, 3), stride=(1, 1), padding=(1, 1))\n",
      "    (41): BatchNorm2d(2048, eps=1e-05, momentum=0.1, affine=True, track_running_stats=True)\n",
      "    (42): Dropout(p=0.15, inplace=False)\n",
      "    (43): ReLU()\n",
      "    (44): MaxPool2d(kernel_size=2, stride=1, padding=0, dilation=1, ceil_mode=False)\n",
      "    (45): Conv2d(2048, 4096, kernel_size=(3, 3), stride=(1, 1), padding=(1, 1))\n",
      "    (46): BatchNorm2d(4096, eps=1e-05, momentum=0.1, affine=True, track_running_stats=True)\n",
      "    (47): Dropout(p=0.15, inplace=False)\n",
      "    (48): ReLU()\n",
      "    (49): MaxPool2d(kernel_size=2, stride=1, padding=0, dilation=1, ceil_mode=False)\n",
      "    (50): Flatten(start_dim=1, end_dim=-1)\n",
      "    (51): Linear(in_features=4096, out_features=2048, bias=True)\n",
      "    (52): BatchNorm2d(2048, eps=1e-05, momentum=0.1, affine=True, track_running_stats=True)\n",
      "    (53): Dropout(p=0.2, inplace=False)\n",
      "    (54): ReLU()\n",
      "    (55): Linear(in_features=2048, out_features=2048, bias=True)\n",
      "    (56): BatchNorm2d(2048, eps=1e-05, momentum=0.1, affine=True, track_running_stats=True)\n",
      "    (57): Dropout(p=0.2, inplace=False)\n",
      "    (58): ReLU()\n",
      "    (59): Linear(in_features=2048, out_features=1024, bias=True)\n",
      "    (60): BatchNorm2d(1024, eps=1e-05, momentum=0.1, affine=True, track_running_stats=True)\n",
      "    (61): Dropout(p=0.2, inplace=False)\n",
      "    (62): ReLU()\n",
      "    (63): Linear(in_features=1024, out_features=1024, bias=True)\n",
      "    (64): BatchNorm2d(1024, eps=1e-05, momentum=0.1, affine=True, track_running_stats=True)\n",
      "    (65): Dropout(p=0.2, inplace=False)\n",
      "    (66): ReLU()\n",
      "    (67): Linear(in_features=1024, out_features=1024, bias=True)\n",
      "    (68): BatchNorm2d(1024, eps=1e-05, momentum=0.1, affine=True, track_running_stats=True)\n",
      "    (69): Dropout(p=0.2, inplace=False)\n",
      "    (70): ReLU()\n",
      "    (71): Linear(in_features=1024, out_features=512, bias=True)\n",
      "    (72): BatchNorm2d(512, eps=1e-05, momentum=0.1, affine=True, track_running_stats=True)\n",
      "    (73): Dropout(p=0.2, inplace=False)\n",
      "    (74): ReLU()\n",
      "    (75): Linear(in_features=512, out_features=512, bias=True)\n",
      "    (76): BatchNorm2d(512, eps=1e-05, momentum=0.1, affine=True, track_running_stats=True)\n",
      "    (77): Dropout(p=0.2, inplace=False)\n",
      "    (78): ReLU()\n",
      "    (79): Linear(in_features=512, out_features=256, bias=True)\n",
      "    (80): BatchNorm2d(256, eps=1e-05, momentum=0.1, affine=True, track_running_stats=True)\n",
      "    (81): Dropout(p=0.2, inplace=False)\n",
      "    (82): ReLU()\n",
      "    (83): Linear(in_features=256, out_features=128, bias=True)\n",
      "    (84): BatchNorm2d(128, eps=1e-05, momentum=0.1, affine=True, track_running_stats=True)\n",
      "    (85): Dropout(p=0.2, inplace=False)\n",
      "    (86): ReLU()\n",
      "    (87): Linear(in_features=128, out_features=64, bias=True)\n",
      "    (88): BatchNorm2d(64, eps=1e-05, momentum=0.1, affine=True, track_running_stats=True)\n",
      "    (89): Dropout(p=0.2, inplace=False)\n",
      "    (90): ReLU()\n",
      "    (91): Linear(in_features=64, out_features=64, bias=True)\n",
      "    (92): BatchNorm2d(64, eps=1e-05, momentum=0.1, affine=True, track_running_stats=True)\n",
      "    (93): Dropout(p=0.2, inplace=False)\n",
      "    (94): ReLU()\n",
      "    (95): Linear(in_features=64, out_features=32, bias=True)\n",
      "    (96): BatchNorm2d(32, eps=1e-05, momentum=0.1, affine=True, track_running_stats=True)\n",
      "    (97): Dropout(p=0.2, inplace=False)\n",
      "    (98): ReLU()\n",
      "    (99): Linear(in_features=32, out_features=16, bias=True)\n",
      "    (100): BatchNorm2d(16, eps=1e-05, momentum=0.1, affine=True, track_running_stats=True)\n",
      "    (101): Dropout(p=0.2, inplace=False)\n",
      "    (102): ReLU()\n",
      "    (103): Linear(in_features=16, out_features=10, bias=True)\n",
      "    (104): Dropout(p=0.2, inplace=False)\n",
      "    (105): Softmax(dim=None)\n",
      "  )\n",
      ")\n"
     ]
    }
   ],
   "source": [
    "class cnn(nn.Module):\n",
    "    def __init__(self):\n",
    "        super(cnn,self).__init__()\n",
    "        self.conv=seq(\n",
    "            nn.Conv2d(in_channels=3,out_channels=16,kernel_size=3,stride=2,padding=1,device=device),\n",
    "            bn(16),\n",
    "            nn.Dropout(0.15),\n",
    "            nn.ReLU(),\n",
    "            nn.MaxPool2d(kernel_size= 2,stride=1),\n",
    "            nn.Conv2d(in_channels=16,out_channels=32,kernel_size=3,stride=2,padding=1,device=device),\n",
    "            bn(32),\n",
    "            nn.Dropout(0.15),\n",
    "            nn.ReLU(),\n",
    "            nn.MaxPool2d(kernel_size= 2,stride=1),\n",
    "            nn.Conv2d(in_channels=16,out_channels=32,kernel_size=3,stride=1,padding=1,device=device),\n",
    "            bn(32),\n",
    "            nn.Dropout(0.15),\n",
    "            nn.ReLU(),\n",
    "            nn.MaxPool2d(kernel_size= 2,stride=1),\n",
    "            nn.Conv2d(in_channels=32,out_channels=64,kernel_size=3,stride=1,padding=1,device=device),\n",
    "            bn(64),\n",
    "            nn.Dropout(0.15),\n",
    "            nn.ReLU(),\n",
    "            nn.MaxPool2d(kernel_size= 2,stride=1),\n",
    "            nn.Conv2d(in_channels=64,out_channels=128,kernel_size=3,stride=1,padding=1,device=device),\n",
    "            bn(128),\n",
    "            nn.Dropout(0.15),\n",
    "            nn.ReLU(),\n",
    "            nn.MaxPool2d(kernel_size= 2,stride=1),\n",
    "            nn.Conv2d(in_channels=128,out_channels=256,kernel_size=3,stride=1,padding=1,device=device),\n",
    "            bn(256),\n",
    "            nn.Dropout(0.15),\n",
    "            nn.ReLU(),\n",
    "            nn.MaxPool2d(kernel_size= 2,stride=1),\n",
    "            nn.Conv2d(in_channels=256,out_channels=512,kernel_size=3,stride=1,padding=1,device=device),\n",
    "            bn(512),\n",
    "            nn.Dropout(0.15),\n",
    "            nn.ReLU(),\n",
    "            nn.MaxPool2d(kernel_size= 2,stride=1),\n",
    "            nn.Conv2d(in_channels=512,out_channels=1024,kernel_size=3,stride=1,padding=1,device=device),\n",
    "            bn(512),\n",
    "            nn.Dropout(0.15),\n",
    "            nn.ReLU(),\n",
    "            nn.MaxPool2d(kernel_size= 2,stride=1),\n",
    "            nn.Conv2d(in_channels=1024,out_channels=2048,kernel_size=3,stride=1,padding=1,device=device),\n",
    "            bn(2048),\n",
    "            nn.Dropout(0.15),\n",
    "            nn.ReLU(),\n",
    "            nn.MaxPool2d(kernel_size= 2,stride=1),\n",
    "            nn.Conv2d(in_channels=2048,out_channels=4096,kernel_size=3,stride=1,padding=1,device=device),\n",
    "            bn(4096),\n",
    "            nn.Dropout(0.15),\n",
    "            nn.ReLU(),\n",
    "            nn.MaxPool2d(kernel_size= 2,stride=1),\n",
    "\n",
    "            nn.Flatten(),\n",
    "            nn.Linear(in_features=4096,out_features=2048,bias=True,device=device),\n",
    "            bn(2048),\n",
    "            nn.Dropout(0.2),\n",
    "            nn.ReLU(),\n",
    "            nn.Linear(in_features=2048,out_features=2048,bias=True,device=device),\n",
    "            bn(2048),            \n",
    "            nn.Dropout(0.2),\n",
    "            nn.ReLU(),\n",
    "            nn.Linear(in_features=2048,out_features=1024,bias=True,device=device),\n",
    "            bn(1024),\n",
    "            nn.Dropout(0.2),\n",
    "            nn.ReLU(),\n",
    "            nn.Linear(in_features=1024,out_features=1024,bias=True,device=device),\n",
    "            bn(1024),\n",
    "            nn.Dropout(0.2),\n",
    "            nn.ReLU(),\n",
    "            nn.Linear(in_features=1024,out_features=1024,bias=True,device=device),\n",
    "            bn(1024),\n",
    "            nn.Dropout(0.2),\n",
    "            nn.ReLU(),\n",
    "            nn.Linear(in_features=1024,out_features=512,bias=True,device=device),\n",
    "            bn(512),\n",
    "            nn.Dropout(0.2),\n",
    "            nn.ReLU(),\n",
    "            nn.Linear(in_features=512,out_features=512,bias=True,device=device),\n",
    "            bn(512),\n",
    "            nn.Dropout(0.2),\n",
    "            nn.ReLU(),\n",
    "            nn.Linear(in_features=512,out_features=256,bias=True,device=device),\n",
    "            bn(256),\n",
    "            nn.Dropout(0.2),\n",
    "            nn.ReLU(),\n",
    "            nn.Linear(in_features=256,out_features=128,bias=True,device=device),\n",
    "            bn(128),\n",
    "            nn.Dropout(0.2),\n",
    "            nn.ReLU(),\n",
    "            nn.Linear(in_features=128,out_features=64,bias=True,device=device),\n",
    "            bn(64),\n",
    "            nn.Dropout(0.2),\n",
    "            nn.ReLU(),\n",
    "            nn.Linear(in_features=64,out_features=64,bias=True,device=device),\n",
    "            bn(64),\n",
    "            nn.Dropout(0.2),\n",
    "            nn.ReLU(),\n",
    "            nn.Linear(in_features=64,out_features=32,bias=True,device=device),\n",
    "            bn(32),\n",
    "            nn.Dropout(0.2),\n",
    "            nn.ReLU(),\n",
    "            nn.Linear(in_features=32,out_features=16,bias=True,device=device),\n",
    "            bn(16),\n",
    "            nn.Dropout(0.2),\n",
    "            nn.ReLU(),\n",
    "            nn.Linear(in_features=16,out_features=10,bias=True,device=device),\n",
    "            nn.Dropout(0.2),\n",
    "            nn.Softmax(),\n",
    "\n",
    "        ).to(device)\n",
    "    \n",
    "    def forward(self,x):\n",
    "        out=self.conv(x)\n",
    "        return out\n",
    "\n",
    "model=cnn().to(device)\n",
    "print(model)"
   ]
  },
  {
   "cell_type": "code",
   "execution_count": null,
   "metadata": {},
   "outputs": [],
   "source": [
    "l_rate=1e-3\n"
   ]
  },
  {
   "cell_type": "code",
   "execution_count": null,
   "metadata": {},
   "outputs": [],
   "source": []
  },
  {
   "cell_type": "markdown",
   "metadata": {},
   "source": [
    "## Code to Calculate mean and STD of the image dataset for transforms.Normalize((),())"
   ]
  },
  {
   "cell_type": "code",
   "execution_count": 22,
   "metadata": {},
   "outputs": [],
   "source": [
    "train_dir = 'D:/dl/emotion/train'\n",
    "test_dir = 'D:/dl/emotion/test'"
   ]
  },
  {
   "cell_type": "code",
   "execution_count": 25,
   "metadata": {},
   "outputs": [],
   "source": [
    "mean = torch.zeros(1).to(device)\n",
    "std = torch.zeros(1).to(device)\n",
    "n_images = 0"
   ]
  },
  {
   "cell_type": "code",
   "execution_count": 26,
   "metadata": {},
   "outputs": [],
   "source": [
    "transform = transforms.ToTensor()"
   ]
  },
  {
   "cell_type": "code",
   "execution_count": 27,
   "metadata": {},
   "outputs": [],
   "source": [
    "def process_directory(directory):\n",
    "    global mean, std, n_images\n",
    "    for subdir in os.listdir(directory):\n",
    "        subdir_path = os.path.join(directory, subdir)\n",
    "        if os.path.isdir(subdir_path):\n",
    "            for file in os.listdir(subdir_path):\n",
    "                if file.endswith(('png', 'jpg', 'jpeg')):\n",
    "                    img_path = os.path.join(subdir_path, file)\n",
    "                    image = Image.open(img_path)\n",
    "                    image = transform(image).to(device)\n",
    "                    mean += image.mean([1, 2])\n",
    "                    std += image.std([1, 2])\n",
    "                    n_images += 1\n",
    "\n",
    "process_directory(train_dir)\n",
    "process_directory(test_dir)"
   ]
  },
  {
   "cell_type": "code",
   "execution_count": 30,
   "metadata": {},
   "outputs": [],
   "source": [
    "mean /= n_images\n",
    "std /= n_images"
   ]
  },
  {
   "cell_type": "code",
   "execution_count": 34,
   "metadata": {},
   "outputs": [
    {
     "name": "stdout",
     "output_type": "stream",
     "text": [
      "Mean: tensor([0.5074], device='cuda:0')\n",
      "Std: tensor([0.2121], device='cuda:0')\n"
     ]
    }
   ],
   "source": [
    "print('Mean:', mean)\n",
    "print('Std:', std)"
   ]
  }
 ],
 "metadata": {
  "kernelspec": {
   "display_name": "Python 3",
   "language": "python",
   "name": "python3"
  },
  "language_info": {
   "codemirror_mode": {
    "name": "ipython",
    "version": 3
   },
   "file_extension": ".py",
   "mimetype": "text/x-python",
   "name": "python",
   "nbconvert_exporter": "python",
   "pygments_lexer": "ipython3",
   "version": "3.12.0"
  }
 },
 "nbformat": 4,
 "nbformat_minor": 2
}
